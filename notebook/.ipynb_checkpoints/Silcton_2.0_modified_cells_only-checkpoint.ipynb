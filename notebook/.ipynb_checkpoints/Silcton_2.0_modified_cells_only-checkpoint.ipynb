{
 "cells": [
  {
   "cell_type": "markdown",
   "metadata": {},
   "source": [
    "## Reanalysis of Previous Silcton Data"
   ]
  },
  {
   "cell_type": "code",
   "execution_count": 32,
   "metadata": {},
   "outputs": [
    {
     "name": "stdout",
     "output_type": "stream",
     "text": [
      "Linear regression for within pointing:\n",
      "intercept = -1.18\n",
      "beta = 1.45\n",
      "R^2 = 0.93\n",
      "\n",
      "Linear regression for between pointing:\n",
      "intercept = -0.09\n",
      "beta = 1.28\n",
      "R^2 = 0.93\n",
      "\n"
     ]
    }
   ],
   "source": [
    "# First, we apply a correction on the existing data. \n",
    "\n",
    "#baseDir = '../ReanalysisData'\n",
    "\n",
    "# Training_Data.csv is the data used to train the model.\n",
    "# These data were coded to have both buggy data AND corrected data, and are used to train the regression model. \n",
    "df_train_path = os.path.join(baseDir,'Training_Data.csv')\n",
    "\n",
    "df_train = pd.read_csv(df_train_path, encoding = 'unicode_escape', sep = \",\")\n",
    "\n",
    "# We train only on new data\n",
    "df_train = df_train[df_train.New_or_Original=='New']\n",
    "\n",
    "# Separate models for within and between \n",
    "X_train_within = df_train[['bad_pointing_coding_within']]\n",
    "y_train_within = df_train[['good_pointing_coding_within']]\n",
    "\n",
    "\n",
    "within_model = linear_model.LinearRegression()\n",
    "within_model.fit(X_train_within,y_train_within)\n",
    "\n",
    "X_train_between = df_train[['bad_pointing_coding_between']]\n",
    "y_train_between = df_train[['good_pointing_coding_between']]\n",
    "\n",
    "between_model = linear_model.LinearRegression()\n",
    "between_model.fit(X_train_between,y_train_between)\n",
    "\n",
    "# summaries of the regression models\n",
    "print(f\"Linear regression for within pointing:\\n\" + \n",
    "      f\"intercept = {within_model.intercept_[0]:.2f}\\n\"\n",
    "      f\"beta = {within_model.coef_[0,0]:.2f}\\n\" + \n",
    "      f\"R^2 = {within_model.score(X_train_within,y_train_within):.2f}\\n\")\n",
    "\n",
    "print(f\"Linear regression for between pointing:\\n\" + \n",
    "      f\"intercept = {between_model.intercept_[0]:.2f}\\n\"\n",
    "      f\"beta = {between_model.coef_[0,0]:.2f}\\n\" + \n",
    "      f\"R^2 = {between_model.score(X_train_between,y_train_between):.2f}\\n\")"
   ]
  },
  {
   "cell_type": "code",
   "execution_count": null,
   "metadata": {},
   "outputs": [],
   "source": [
    "def applyCorrection(df,within='Within_Pointing',between='Between_Pointing',within_model=within_model,between_model=between_model):\n",
    "\n",
    "    # Now calculate participant and within/between averages. \n",
    "    within_buggy = df[[within]]\n",
    "    between_buggy = df[[between]]\n",
    "    \n",
    "    # Filter out the nans\n",
    "    within_buggy_filter = within_buggy.isna()\n",
    "    between_buggy_filter = between_buggy.isna()\n",
    "    \n",
    "    # Create a copy of each of these\n",
    "    within_corrected = within_buggy.copy()\n",
    "    between_corrected = between_buggy.copy()\n",
    "    \n",
    "    # we store in an array all predicted (corrected) angles\n",
    "    within_corrected[~within_buggy_filter[within]] = within_model.predict(within_buggy[~within_buggy_filter[within]])\n",
    "    between_corrected.loc[~between_buggy_filter[between]] = between_model.predict(between_buggy[~between_buggy_filter[between]])\n",
    "\n",
    "    \n",
    "    return within_corrected,between_corrected\n",
    "\n",
    "\n",
    "def plotCorrection(within_buggy,between_buggy,within_corrected,between_corrected,savefig=savefig):#,output=output):\n",
    "    \n",
    "    # Set up legend elements for the canonical plots\n",
    "    canonical_legend_old = [plt.Line2D([0], [0], marker='o',color='w',markerfacecolor='red', label='Old Data: Buggy'),\n",
    "                   plt.Line2D([0], [0], marker='o',color='w',markerfacecolor='blue', label='Old Data: Corrected')]\n",
    "\n",
    "    fig, ax = plt.subplots(figsize=(18,9))\n",
    "    \n",
    "    ax.set_xlabel(\"Within Pointing Error (Degrees)\")\n",
    "    ax.set_ylabel(\"Between Pointing Error (Degrees)\")\n",
    "    \n",
    "    ax.scatter(between_corrected,within_corrected, \n",
    "               c='blue',alpha=.5,s=120,label='Old Data: Corrected')\n",
    "    ax.scatter(between_buggy,within_buggy,\n",
    "               c='red',alpha=.5,s=120,label='Old Data: Buggy')\n",
    "    \n",
    "    ax.set_xlim([0,100])\n",
    "    ax.set_ylim([0,90])\n",
    "\n",
    "    ax.legend(handles=canonical_legend_old, loc='upper left')\n",
    "\n",
    "    if savefig:\n",
    "        plt.savefig(output)\n",
    "\n",
    "    plt.show()"
   ]
  }
 ],
 "metadata": {
  "kernelspec": {
   "display_name": "Python 3",
   "language": "python",
   "name": "python3"
  },
  "language_info": {
   "codemirror_mode": {
    "name": "ipython",
    "version": 3
   },
   "file_extension": ".py",
   "mimetype": "text/x-python",
   "name": "python",
   "nbconvert_exporter": "python",
   "pygments_lexer": "ipython3",
   "version": "3.6.12"
  },
  "varInspector": {
   "cols": {
    "lenName": 16,
    "lenType": 16,
    "lenVar": 40
   },
   "kernels_config": {
    "python": {
     "delete_cmd_postfix": "",
     "delete_cmd_prefix": "del ",
     "library": "var_list.py",
     "varRefreshCmd": "print(var_dic_list())"
    },
    "r": {
     "delete_cmd_postfix": ") ",
     "delete_cmd_prefix": "rm(",
     "library": "var_list.r",
     "varRefreshCmd": "cat(var_dic_list()) "
    }
   },
   "position": {
    "height": "587.8px",
    "left": "1129px",
    "right": "20px",
    "top": "19px",
    "width": "350px"
   },
   "types_to_exclude": [
    "module",
    "function",
    "builtin_function_or_method",
    "instance",
    "_Feature"
   ],
   "window_display": false
  },
  "widgets": {
   "application/vnd.jupyter.widget-state+json": {
    "state": {},
    "version_major": 2,
    "version_minor": 0
   }
  }
 },
 "nbformat": 4,
 "nbformat_minor": 2
}
