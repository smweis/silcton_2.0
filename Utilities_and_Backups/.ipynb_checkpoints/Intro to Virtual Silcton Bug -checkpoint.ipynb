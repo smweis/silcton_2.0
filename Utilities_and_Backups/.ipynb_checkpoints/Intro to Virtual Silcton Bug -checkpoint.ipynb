{
 "cells": [
  {
   "cell_type": "markdown",
   "metadata": {},
   "source": [
    "# Introduction to Virtual Silcton Bug \n"
   ]
  },
  {
   "cell_type": "markdown",
   "metadata": {},
   "source": [
    "## Virtual Silcton Backgroun"
   ]
  },
  {
   "cell_type": "markdown",
   "metadata": {},
   "source": [
    "Vitual Silcton is a virtual environment that is based off of a real environment used in a different study done by [Schinazi et al in 2003](https://onlinelibrary.wiley.com/doi/epdf/10.1002/hipo.22111).\n",
    "* In their study, participants actively walked around the environment once a week and were then tested in order to determine how well they had formed accurate mental spatial representations.\n",
    "* This Schinazi et al study was actually based on an [earlier study](https://reader.elsevier.com/reader/sd/pii/S0010028505000733?token=2E973CB279AA882D568CC3216955039380834B2453132B3489F295400FB098EEC35DBACB2EAE4A385146F99BA421648D) in which participants were driven around a different environment in a car. Schinazi et al wanted to make it a more active process by allowing participants to walk, instead of passively driving the around.\n",
    "* The study currently being talked about that contained the bug can be found [here.](https://content.apa.org/record/2013-44238-001)\n",
    "\n",
    "In Virtual Silcton, there are two main routes that each contain four building (eight building total) for participants to learn. These routes are separate from each other, but in the same virtua environment. Participants walk along the paths in the virtual work using arrow key (WASD keys work as well) to move and the mouse (or trackpad) to look.\n",
    "\n",
    "There are two connecting routes that connect the two main routes. These allow participants to see how the main routes are connected to each other and are told that these relationships are importnant for the tasks that follow. \n",
    "\n",
    "Those tasks are a pointing task and a map building task. \n",
    "\n",
    "<img src=\"../images/vsmap .png\">\n",
    "     \n",
    "The above image is the map of the virtual reality, Virtual Silcon, that is used in the current study where:\n",
    "\n",
    "* A - main route \n",
    "* B - main route \n",
    "* C - connecting route\n",
    "* D - connecting route\n",
    "\n",
    "<img src= \"../images/routeone.png\">\n",
    "<img src= \"../images/routetwo.png\">\n",
    "\n",
    "These are images taken from the VR at the beginning of each main route. \n"
   ]
  },
  {
   "cell_type": "markdown",
   "metadata": {},
   "source": [
    "## Pointing Task"
   ]
  },
  {
   "cell_type": "markdown",
   "metadata": {},
   "source": [
    "To really understand the effects of the bug, it is importnant to understand the pointing task. \n",
    "\n",
    "Participants are located next to one of the eight buildings that they have leared(in the area under the diamond). They are prompted to point to one of the other buildings. Eventually, they are asked to point to all of the other buildings from this first building and are then automatically dropped at the next building and asked to point to all the buildings from there, and so on. \n",
    "\n",
    "<img src=\"../images/point.png\">\n",
    "\n",
    "This analyzes how well participants respond to within and between route pointing.\n",
    "* Within: pointing to buldings on the same route as the building the participant is standing next to.\n",
    "* Between: pointing to building on the other route."
   ]
  },
  {
   "cell_type": "markdown",
   "metadata": {},
   "source": [
    "## Determining Pointing Judgements"
   ]
  },
  {
   "cell_type": "markdown",
   "metadata": {},
   "source": [
    "Angles for the pointing task calculated based off of a \"facting direction\" at each building.\n",
    "* i.e. a hypothetical like from the diamond at building A to the diamond at building B. \n",
    "* This would serve as your \"N-S\" axis.\n",
    "\n",
    "<img src=\"../images/\">\n",
    "\n",
    "Error is then calculated as the absolute value of the correct angle subtracted from the angle of where the participant pointed. \n",
    "* Anything clockwise from 0 to 180 degrees is a positive value.\n",
    "* Anything counter clockwise from 0 to -180 degrees is a negative value. \n",
    "* At the time, this is how unity did their calulations. \n",
    "\n",
    "<img scr=\"../images/\">  \n"
   ]
  },
  {
   "cell_type": "markdown",
   "metadata": {},
   "source": [
    "## The Effects of the Bug"
   ]
  },
  {
   "cell_type": "markdown",
   "metadata": {},
   "source": [
    "Essentially, the bug that was found made it so that correct answers and pointing judgements were all being stored as absolute values and error calculations were being made off of that. "
   ]
  },
  {
   "cell_type": "code",
   "execution_count": 1,
   "metadata": {},
   "outputs": [
    {
     "ename": "IndentationError",
     "evalue": "expected an indented block (<ipython-input-1-3f11b64a4f86>, line 28)",
     "output_type": "error",
     "traceback": [
      "\u001b[1;36m  File \u001b[1;32m\"<ipython-input-1-3f11b64a4f86>\"\u001b[1;36m, line \u001b[1;32m28\u001b[0m\n\u001b[1;33m    for i in range(nSimulations):\u001b[0m\n\u001b[1;37m    ^\u001b[0m\n\u001b[1;31mIndentationError\u001b[0m\u001b[1;31m:\u001b[0m expected an indented block\n"
     ]
    }
   ],
   "source": [
    "# Here's a block of some code that will simulate the error pattern for various pointing trials. \n",
    "\n",
    "# How many pointing trials did we run (all possible is 56)\n",
    "nPointingTrials = 56\n",
    "\n",
    "# Number of simulations to run\n",
    "nSimulations = 1000\n",
    "\n",
    "\n",
    "#create a vector error where each entry of the vector is a randomly selected error value\n",
    "# selected from a normal distribution with specified mean and standard deviation.\n",
    "errorMean = 30 # average error\n",
    "errorSD = 10 # standard distribution of error over trials for simulation \n",
    "\n",
    "def simulatePointer(errorMean,errorSD,nPointingTrials):\n",
    "    \n",
    "    # errorVector = a vector of length (nPointingTrials) described above\n",
    "    \n",
    "    # take in each correct answer angular value (e.g., the angle pointing TO Lynch FROM Batty)\n",
    "    # add [error] degrees to one side or the other (randomly) based on the entry from errorVector\n",
    "    \n",
    "    # Calculate the CORRECT error (which should recover our errorMean and errorSD)\n",
    "    # Calculate the INCORRECT error. \n",
    "    # return correctError, incorrectError\n",
    "\n",
    "# Now we can run our simulatePointer a bunch of times with a bunch of error values. And plot the results. \n",
    "\n",
    "for i in range(nSimulations):\n",
    "    #correctError[i,:],incorrectError[i,:] = simulatePointer(errorMean,errorSD,nPointingTrials)\n",
    "    \n",
    "\n",
    "# Now plot the results of our simulations for all errorMean = 30 vs. 50 vs. 70.     \n",
    "    \n",
    "    "
   ]
  },
  {
   "cell_type": "code",
   "execution_count": 2,
   "metadata": {
    "code_folding": []
   },
   "outputs": [],
   "source": [
    "import pandas as pd\n",
    "import numpy as np\n",
    "import random\n",
    "from collections import namedtuple\n",
    "import matplotlib.pyplot as plt\n",
    "#from scipy import stats\n",
    "\n",
    "####\n",
    "# This section of code will re-calculate the angles from the original coordinates\n",
    "landmark = namedtuple('landmark','visit_order front_door_pixel_x front_door_pixel_y pointing_location_pixel_x pointing_location_pixel_y')\n",
    "landmark_columns = ['visit_order','front_door_pixel_x','front_door_pixel_y','pointing_location_pixel_x','pointing_location_pixel_y']\n",
    "buildingNamesOnce = ['Batty House','Lynch Station','Harris Hall','Harvey House','Golledge Hall','Snow Church','Sauer Center','Tobler Museum']\n",
    "\n",
    "# from seeds.rb on website (original coordinates, negative Y)\n",
    "landmarks_db = {'Batty House':landmark(0,63,-292,91,-309),\n",
    "               'Lynch Station':landmark(1,67,-169,158,-222),\n",
    "               'Harris Hall':landmark(2,268,-262,284,-251),\n",
    "               'Harvey House':landmark(3,310,-498,300,-488),\n",
    "               'Golledge Hall':landmark(4,635,-303,628,-255),\n",
    "               'Snow Church':landmark(5,731,-262,692,-258),\n",
    "               'Sauer Center':landmark(6,683,-69,687,-141),\n",
    "               'Tobler Museum':landmark(7,536,-189,536,-197)}\n",
    "\n",
    "# Create dataframe to make things easier to work with\n",
    "landmarks_df = pd.DataFrame(landmarks_db,index=landmark_columns)\n",
    "landmarks_df = landmarks_df.T\n",
    "\n",
    "\n",
    "def vectorSubtraction(point_from,target,facing):\n",
    "    #vector subtraction logic from here:\n",
    "    #https://stackoverflow.com/questions/21483999/using-atan2-to-find-angle-between-two-vectors\n",
    "    vector1 = np.subtract(facing,point_from) # center the facing and target points\n",
    "    vector2 = np.subtract(target,point_from)\n",
    "    # Now calculate the signed angle between them as the difference between arctans (y,x)\n",
    "    angle = np.arctan2(vector1[1],vector1[0]) - np.arctan2(vector2[1],vector2[0])\n",
    "    angle = np.rad2deg(angle)\n",
    "\n",
    "    # Correct for being the wrong side of 180\n",
    "    if angle > 180:\n",
    "        correctedAngle = angle - 360\n",
    "    elif angle < -180:\n",
    "        correctedAngle = 360 + angle\n",
    "    else:\n",
    "        correctedAngle = angle\n",
    "\n",
    "    # This helps calculate what direction that angle is from \"north\"\n",
    "    from_zero_helper = [point_from[0],point_from[1]+1]\n",
    "    from_zero_vec = np.subtract(from_zero_helper,point_from)\n",
    "    from_zero = np.arctan2(from_zero_vec[1],from_zero_vec[0]) - np.arctan2(vector1[1],vector1[0])\n",
    "    from_zero = np.rad2deg(from_zero)\n",
    "\n",
    "    return correctedAngle,from_zero\n",
    "\n",
    "\n",
    "recalculatedAnswers = []\n",
    "\n",
    "\n",
    "for i,j in enumerate(landmarks_df.index):\n",
    "    if i in (3,7): # if the point_from location is at the end of the route\n",
    "        face = i - 1 # the facing direction is toward the previous diamond\n",
    "    else: # otherwise it's toward the next diamond\n",
    "        face = i + 1\n",
    "    \n",
    "    point_from = [landmarks_df['pointing_location_pixel_x'][j],landmarks_df['pointing_location_pixel_y'][j]]\n",
    "    facing = [landmarks_df['pointing_location_pixel_x'][face],landmarks_df['pointing_location_pixel_y'][face]]\n",
    "\n",
    "    for x,y in enumerate(landmarks_df.index):\n",
    "        if x == i:\n",
    "            value = np.nan\n",
    "        else:\n",
    "            target = [landmarks_df['front_door_pixel_x'][y],landmarks_df['front_door_pixel_y'][y]]\n",
    "            [value,from_zero] = vectorSubtraction(point_from,target,facing)\n",
    "\n",
    "        recalculatedAnswers.append(value)\n",
    "    \n",
    "\n",
    "\n",
    "buildingNames = [['Batty House','Lynch Station','Harris Hall','Harvey House','Golledge Hall','Snow Church','Sauer Center','Tobler Museum'],\n",
    "                 ['Batty House','Lynch Station','Harris Hall','Harvey House','Golledge Hall','Snow Church','Sauer Center','Tobler Museum']]\n",
    "\n",
    "\n",
    "index = pd.MultiIndex.from_product(buildingNames,names=['Pointing_From','Pointing_To'])\n",
    "\n",
    "\n",
    "unsignedAnswers = [np.nan,47.32798389,37.5286373,93.19423766,51.76768154,48.19947553,30.3316951,37.30802198,\n",
    "130.6542463,np.nan,7.021704671,48.19593801,3.323863738,8.968174613,29.20903342,17.95076442,\n",
    "83.35216568,114.5627943,np.nan,2.146796904,77.71082192,84.7281122,110.6574336,99.95984558,\n",
    "46.54689912,32.28246429,4.196894849,np.nan,64.9530254,66.19140238,46.29205396,42.14615863,\n",
    "173.5694617,173.9683139,176.2022806,139.9309368,np.nan,1.204134401,76.21088344,147.0284471,\n",
    "90.64700942,79.44851915,88.09346154,119.6929579,125.8431145,np.nan,0.279262352,63.69277617,\n",
    "6.744508622,17.76205492,4.240040564,23.09134403,51.85616181,89.63525726,np.nan,2.713388186,\n",
    "171.0086651,156.2355625,173.2852643,147.248191,67.30353066,38.78279809,20.69981416,np.nan]\n",
    "\n",
    "df = pd.DataFrame(unsignedAnswers, index=index, columns=['unsignedAnswer'])\n",
    "\n",
    "df['recalculatedAnswer'] = recalculatedAnswers\n",
    "df['participantAngle'] = np.nan\n",
    "df.dropna(how='all',inplace=True)\n",
    "df.sort_index(inplace=True)\n",
    "\n",
    "def pointingCalculationGood(actual,guess):\n",
    "    ## Take the difference between the actual angle and the guess, taking the absolute value. \n",
    "    diff = abs(actual - guess)\n",
    "    if diff > 180:\n",
    "        diff = 360-diff\n",
    "    return diff\n",
    "\n",
    "def pointingCalculationBad(actual,guess):\n",
    "    ## Correct the guess and actual, just in case, which were never negative.\n",
    "    guess = abs(guess)\n",
    "    actual = abs(actual)\n",
    "    ## Take the difference between the actual angle and the guess, taking the absolute value. \n",
    "    diff = abs(actual - guess)\n",
    "    if diff > 180:\n",
    "        diff = 360-diff\n",
    "    return diff\n",
    "\n",
    "def simulatePointing(df,f):\n",
    "    for idx,row in df.iterrows():\n",
    "        df.loc[idx,'participantAngle'] = f()\n",
    "    df['correctAngularError'] = [pointingCalculationGood(x,y) for x, y in zip(df['recalculatedAnswer'], df['participantAngle'])]\n",
    "    df['DO_NOT_USE_incorrectAngularError'] = [pointingCalculationBad(x,y) for x, y in zip(df['unsignedAnswer'], df['participantAngle'])]\n",
    "    return df\n",
    "\n"
   ]
  },
  {
   "cell_type": "code",
   "execution_count": 13,
   "metadata": {},
   "outputs": [
    {
     "name": "stdout",
     "output_type": "stream",
     "text": [
      "good coding mean: 90.23858630640146\n",
      "bad coding mean: 63.086678371359675\n"
     ]
    }
   ],
   "source": [
    "# This cell will simulate random responses and evaluate them using the good and bad coding schemes.\n",
    "\n",
    "# Define whatever function you like\n",
    "def f():\n",
    "    return random.randrange(-180,180)\n",
    "\n",
    "# How many simulations to run?\n",
    "nsims = 100\n",
    "\n",
    "# Initialize the simulations database\n",
    "outcomes = pd.DataFrame(index=list(range(1,nsims)), columns=['goodCoding','badCoding'])\n",
    "outcomes = outcomes.fillna(0)\n",
    "dfSim = df.copy()\n",
    "\n",
    "\n",
    "for index,row in outcomes.iterrows():\n",
    "    dfSim = simulatePointing(dfSim,f)\n",
    "    outcomes.loc[index,'goodCoding'] = dfSim.correctAngularError.mean()\n",
    "    outcomes.loc[index,'badCoding'] = dfSim.DO_NOT_USE_incorrectAngularError.mean()\n",
    "\n",
    "    \n",
    "print('good coding mean: '+str(outcomes.goodCoding.mean()) + '\\nbad coding mean: '+str(outcomes.badCoding.mean()))\n",
    "\n",
    "\n",
    "# Next we want to what the mean error is for each pointing judgment for all possible angles. \n",
    "byAngleGood = pd.DataFrame()\n",
    "byAngleBad = pd.DataFrame()\n",
    "for index,row in df.iterrows():\n",
    "    a = []\n",
    "    b = []\n",
    "    for i in list(range(-180,180)):\n",
    "        a.append(pointingCalculationGood(row['recalculatedAnswer'],i))\n",
    "        b.append(pointingCalculationBad(row['unsignedAnswer'],i))\n",
    "    byAngleGood[index] = a\n",
    "    byAngleBad[index] = b\n"
   ]
  },
  {
   "cell_type": "code",
   "execution_count": null,
   "metadata": {},
   "outputs": [],
   "source": []
  }
 ],
 "metadata": {
  "kernelspec": {
   "display_name": "Python 3",
   "language": "python",
   "name": "python3"
  },
  "language_info": {
   "codemirror_mode": {
    "name": "ipython",
    "version": 3
   },
   "file_extension": ".py",
   "mimetype": "text/x-python",
   "name": "python",
   "nbconvert_exporter": "python",
   "pygments_lexer": "ipython3",
   "version": "3.8.3"
  },
  "varInspector": {
   "cols": {
    "lenName": 16,
    "lenType": 16,
    "lenVar": 40
   },
   "kernels_config": {
    "python": {
     "delete_cmd_postfix": "",
     "delete_cmd_prefix": "del ",
     "library": "var_list.py",
     "varRefreshCmd": "print(var_dic_list())"
    },
    "r": {
     "delete_cmd_postfix": ") ",
     "delete_cmd_prefix": "rm(",
     "library": "var_list.r",
     "varRefreshCmd": "cat(var_dic_list()) "
    }
   },
   "oldHeight": 518.8,
   "position": {
    "height": "40px",
    "left": "156px",
    "right": "20px",
    "top": "114px",
    "width": "800px"
   },
   "types_to_exclude": [
    "module",
    "function",
    "builtin_function_or_method",
    "instance",
    "_Feature"
   ],
   "varInspector_section_display": "none",
   "window_display": true
  }
 },
 "nbformat": 4,
 "nbformat_minor": 4
}
